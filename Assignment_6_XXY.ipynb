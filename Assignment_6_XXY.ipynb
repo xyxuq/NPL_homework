{
  "nbformat": 4,
  "nbformat_minor": 0,
  "metadata": {
    "kernelspec": {
      "name": "python3",
      "display_name": "Python 3"
    },
    "language_info": {
      "codemirror_mode": {
        "name": "ipython",
        "version": 3
      },
      "file_extension": ".py",
      "mimetype": "text/x-python",
      "name": "python",
      "nbconvert_exporter": "python",
      "pygments_lexer": "ipython3",
      "version": "3.7.3"
    },
    "colab": {
      "name": "Assignment_6.ipynb",
      "provenance": [],
      "collapsed_sections": []
    },
    "accelerator": "GPU"
  },
  "cells": [
    {
      "cell_type": "markdown",
      "metadata": {
        "id": "fXPzI9Zhx2a4",
        "colab_type": "text"
      },
      "source": [
        "# Assignment 6"
      ]
    },
    {
      "cell_type": "markdown",
      "metadata": {
        "id": "y0u-jBcmx2a_",
        "colab_type": "text"
      },
      "source": [
        "### 1.复习上课内容以及复现课程代码"
      ]
    },
    {
      "cell_type": "markdown",
      "metadata": {
        "id": "IR34ftP9x2bD",
        "colab_type": "text"
      },
      "source": [
        "在本部分，你需要复习上课内容和课程代码后，自己复现课程代码。"
      ]
    },
    {
      "cell_type": "code",
      "metadata": {
        "id": "0OT6FP_Ny-z_",
        "colab_type": "code",
        "outputId": "afa64289-98ba-47ce-978a-e66c57c627fc",
        "colab": {
          "base_uri": "https://localhost:8080/",
          "height": 122
        }
      },
      "source": [
        "from __future__ import absolute_import, division, print_function, unicode_literals\n",
        "import os\n",
        "/\n",
        "try:\n",
        "  # %tensorflow_version only exists in Colab.\n",
        "  %tensorflow_version 2.x  #gpu\n",
        "except Exception:\n",
        "  pass\n",
        "import tensorflow as tf\n",
        "\n",
        "import cProfile"
      ],
      "execution_count": 0,
      "outputs": [
        {
          "output_type": "stream",
          "text": [
            "`%tensorflow_version` only switches the major version: `1.x` or `2.x`.\n",
            "You set: `2.x  #gpu`. This will be interpreted as: `2.x`.\n",
            "\n",
            "\n",
            "TensorFlow is already loaded. Please restart the runtime to change versions.\n"
          ],
          "name": "stdout"
        }
      ]
    },
    {
      "cell_type": "code",
      "metadata": {
        "id": "E7-ApjV5zQ8L",
        "colab_type": "code",
        "outputId": "fa6154f9-391d-4ed2-cf6a-ff206f66c261",
        "colab": {
          "base_uri": "https://localhost:8080/",
          "height": 54
        }
      },
      "source": [
        "tf.executing_eagerly()"
      ],
      "execution_count": 0,
      "outputs": [
        {
          "output_type": "execute_result",
          "data": {
            "text/plain": [
              "True"
            ]
          },
          "metadata": {
            "tags": []
          },
          "execution_count": 23
        }
      ]
    },
    {
      "cell_type": "code",
      "metadata": {
        "id": "PaTWAIb9zTqL",
        "colab_type": "code",
        "outputId": "f89fbcad-4eab-4666-a5f7-ef4ea7433e02",
        "colab": {
          "base_uri": "https://localhost:8080/",
          "height": 72
        }
      },
      "source": [
        "x = [[2.]]\n",
        "m = tf.matmul(x,x)\n",
        "print(\"x matmul x = {}\".format(m))\n",
        "x"
      ],
      "execution_count": 0,
      "outputs": [
        {
          "output_type": "stream",
          "text": [
            "x matmul x = [[4.]]\n"
          ],
          "name": "stdout"
        },
        {
          "output_type": "execute_result",
          "data": {
            "text/plain": [
              "[[2.0]]"
            ]
          },
          "metadata": {
            "tags": []
          },
          "execution_count": 24
        }
      ]
    },
    {
      "cell_type": "code",
      "metadata": {
        "id": "QU9luVANx9mn",
        "colab_type": "code",
        "outputId": "ba495b61-52e9-4069-ef46-fd92a19e994e",
        "colab": {
          "base_uri": "https://localhost:8080/",
          "height": 88
        }
      },
      "source": [
        "a = tf.constant([[1,2],\n",
        "                 [3,4]])\n",
        "print(a)"
      ],
      "execution_count": 0,
      "outputs": [
        {
          "output_type": "stream",
          "text": [
            "tf.Tensor(\n",
            "[[1 2]\n",
            " [3 4]], shape=(2, 2), dtype=int32)\n"
          ],
          "name": "stdout"
        }
      ]
    },
    {
      "cell_type": "code",
      "metadata": {
        "id": "tm7s8Y3cx9mv",
        "colab_type": "code",
        "outputId": "3fca0f19-2c91-41e9-a813-7f43307a4e79",
        "colab": {
          "base_uri": "https://localhost:8080/",
          "height": 88
        }
      },
      "source": [
        "#Broadcasting \n",
        "b = tf.add(a,1)\n",
        "print(b)"
      ],
      "execution_count": 0,
      "outputs": [
        {
          "output_type": "stream",
          "text": [
            "tf.Tensor(\n",
            "[[2 3]\n",
            " [4 5]], shape=(2, 2), dtype=int32)\n"
          ],
          "name": "stdout"
        }
      ]
    },
    {
      "cell_type": "code",
      "metadata": {
        "id": "YHnUk7vsx9m4",
        "colab_type": "code",
        "outputId": "3d3451da-80d3-4bc3-e78c-6f4d6ed64e03",
        "colab": {
          "base_uri": "https://localhost:8080/",
          "height": 88
        }
      },
      "source": [
        "#element-wise multiplication\n",
        "print(a*b)  "
      ],
      "execution_count": 0,
      "outputs": [
        {
          "output_type": "stream",
          "text": [
            "tf.Tensor(\n",
            "[[ 2  6]\n",
            " [12 20]], shape=(2, 2), dtype=int32)\n"
          ],
          "name": "stdout"
        }
      ]
    },
    {
      "cell_type": "code",
      "metadata": {
        "id": "e2Ly1ff-x9nC",
        "colab_type": "code",
        "outputId": "8a0a9d36-5ba7-46f9-f05e-c7fb847c6712",
        "colab": {
          "base_uri": "https://localhost:8080/",
          "height": 88
        }
      },
      "source": [
        "print(tf.matmul(a,b))"
      ],
      "execution_count": 0,
      "outputs": [
        {
          "output_type": "stream",
          "text": [
            "tf.Tensor(\n",
            "[[10 13]\n",
            " [22 29]], shape=(2, 2), dtype=int32)\n"
          ],
          "name": "stdout"
        }
      ]
    },
    {
      "cell_type": "markdown",
      "metadata": {
        "id": "q-3KFzWjx9nK",
        "colab_type": "text"
      },
      "source": [
        "Eager execution works perfectly with Numpy"
      ]
    },
    {
      "cell_type": "code",
      "metadata": {
        "id": "HQ2mqKbnx9nO",
        "colab_type": "code",
        "colab": {}
      },
      "source": [
        "import numpy as np"
      ],
      "execution_count": 0,
      "outputs": []
    },
    {
      "cell_type": "code",
      "metadata": {
        "id": "Pc41LNX0x9nT",
        "colab_type": "code",
        "outputId": "927ae431-7955-4396-eb84-d40f72d43844",
        "colab": {
          "base_uri": "https://localhost:8080/",
          "height": 72
        }
      },
      "source": [
        "c = np.multiply(a,b)\n",
        "print(c)"
      ],
      "execution_count": 0,
      "outputs": [
        {
          "output_type": "stream",
          "text": [
            "[[ 2  6]\n",
            " [12 20]]\n"
          ],
          "name": "stdout"
        }
      ]
    },
    {
      "cell_type": "code",
      "metadata": {
        "id": "553o4vJMx9na",
        "colab_type": "code",
        "outputId": "8515ed18-3cbd-438b-8333-71c0a3e9f812",
        "colab": {
          "base_uri": "https://localhost:8080/",
          "height": 72
        }
      },
      "source": [
        "#Transfer a tensor to numpy array\n",
        "print(a.numpy())"
      ],
      "execution_count": 0,
      "outputs": [
        {
          "output_type": "stream",
          "text": [
            "[[1 2]\n",
            " [3 4]]\n"
          ],
          "name": "stdout"
        }
      ]
    },
    {
      "cell_type": "code",
      "metadata": {
        "id": "kbT9yWb2x9nk",
        "colab_type": "code",
        "outputId": "bc8e3adc-8b3b-43db-d90f-ddd1c400b918",
        "colab": {
          "base_uri": "https://localhost:8080/",
          "height": 54
        }
      },
      "source": [
        "w = tf.Variable([[1.0]])\n",
        "with tf.GradientTape() as tape:\n",
        "    loss = w * w\n",
        "print(loss)"
      ],
      "execution_count": 0,
      "outputs": [
        {
          "output_type": "stream",
          "text": [
            "tf.Tensor([[1.]], shape=(1, 1), dtype=float32)\n"
          ],
          "name": "stdout"
        }
      ]
    },
    {
      "cell_type": "code",
      "metadata": {
        "id": "huTKCQNw4-tu",
        "colab_type": "code",
        "outputId": "db479e51-f660-424a-b7c9-d570c0c7e867",
        "colab": {
          "base_uri": "https://localhost:8080/",
          "height": 54
        }
      },
      "source": [
        "grad = tape.gradient(loss,w)\n",
        "print(grad)"
      ],
      "execution_count": 0,
      "outputs": [
        {
          "output_type": "stream",
          "text": [
            "tf.Tensor([[2.]], shape=(1, 1), dtype=float32)\n"
          ],
          "name": "stdout"
        }
      ]
    },
    {
      "cell_type": "markdown",
      "metadata": {
        "colab_type": "text",
        "id": "A1I5BpQO2Sj3"
      },
      "source": [
        "### Train a model"
      ]
    },
    {
      "cell_type": "code",
      "metadata": {
        "colab_type": "code",
        "id": "mdc-eNE92Sj5",
        "colab": {}
      },
      "source": [
        "(x_train,y_train),(x_test,y_test) = tf.keras.datasets.mnist.load_data()"
      ],
      "execution_count": 0,
      "outputs": []
    },
    {
      "cell_type": "code",
      "metadata": {
        "id": "qZnbyXN5GPLZ",
        "colab_type": "code",
        "colab": {}
      },
      "source": [
        "x_train = x_train[:10000,:,:]\n",
        "y_train = y_train[:10000]\n",
        "x_test = x_test[:1000,:,:]\n",
        "y_test = y_test[:1000]"
      ],
      "execution_count": 0,
      "outputs": []
    },
    {
      "cell_type": "code",
      "metadata": {
        "colab_type": "code",
        "id": "WeeSw7XF2Sj-",
        "colab": {}
      },
      "source": [
        "x_train = tf.cast(x_train[...,tf.newaxis]/255, tf.float32),\n",
        "x_test = tf.cast(x_test[...,tf.newaxis]/255, tf.float32),\n",
        "\n",
        "#y_train = y_train.astype('float32')\n",
        "#y_test = y_test.astype('float32')\n",
        "y_train = tf.keras.utils.to_categorical(y_train,10)\n",
        "y_test = tf.keras.utils.to_categorical(y_test,10)"
      ],
      "execution_count": 0,
      "outputs": []
    },
    {
      "cell_type": "code",
      "metadata": {
        "colab_type": "code",
        "id": "a2iNPpY82SkH",
        "colab": {}
      },
      "source": [
        "#Build the model using Sequential\n",
        "\n",
        "mnist_model = tf.keras.Sequential([\n",
        "    tf.keras.layers.Conv2D(32,[3,3],activation='relu',\n",
        "                          input_shape=(28,28,1)),\n",
        "    tf.keras.layers.Conv2D(64,[3,3],activation='relu'),\n",
        "    tf.keras.layers.MaxPooling2D(pool_size=(2,2)),\n",
        "    tf.keras.layers.Dropout(0.25),\n",
        "    tf.keras.layers.Flatten(),\n",
        "    tf.keras.layers.Dense(128,activation=\"relu\"),\n",
        "    tf.keras.layers.Dropout(0.5),\n",
        "    tf.keras.layers.Dense(10,activation=\"softmax\")\n",
        "])"
      ],
      "execution_count": 0,
      "outputs": []
    },
    {
      "cell_type": "code",
      "metadata": {
        "colab_type": "code",
        "outputId": "0c8d5fd6-d519-4f35-dcc2-dcc2c06bd0d6",
        "id": "NYkZ3Csp2SkK",
        "colab": {
          "base_uri": "https://localhost:8080/",
          "height": 446
        }
      },
      "source": [
        "mnist_model.summary()"
      ],
      "execution_count": 0,
      "outputs": [
        {
          "output_type": "stream",
          "text": [
            "Model: \"sequential\"\n",
            "_________________________________________________________________\n",
            "Layer (type)                 Output Shape              Param #   \n",
            "=================================================================\n",
            "conv2d (Conv2D)              (None, 26, 26, 32)        320       \n",
            "_________________________________________________________________\n",
            "conv2d_1 (Conv2D)            (None, 24, 24, 64)        18496     \n",
            "_________________________________________________________________\n",
            "max_pooling2d (MaxPooling2D) (None, 12, 12, 64)        0         \n",
            "_________________________________________________________________\n",
            "dropout (Dropout)            (None, 12, 12, 64)        0         \n",
            "_________________________________________________________________\n",
            "flatten (Flatten)            (None, 9216)              0         \n",
            "_________________________________________________________________\n",
            "dense (Dense)                (None, 128)               1179776   \n",
            "_________________________________________________________________\n",
            "dropout_1 (Dropout)          (None, 128)               0         \n",
            "_________________________________________________________________\n",
            "dense_1 (Dense)              (None, 10)                1290      \n",
            "=================================================================\n",
            "Total params: 1,199,882\n",
            "Trainable params: 1,199,882\n",
            "Non-trainable params: 0\n",
            "_________________________________________________________________\n"
          ],
          "name": "stdout"
        }
      ]
    },
    {
      "cell_type": "code",
      "metadata": {
        "colab_type": "code",
        "id": "NCiAdUET2SkO",
        "colab": {}
      },
      "source": [
        "#Build the model using Model\n",
        "inputs = tf.keras.Input(shape=(None,None,1),name=\"digits\")\n",
        "conv_1 = tf.keras.layers.Conv2D(16,[3,3],activation=\"relu\")(inputs)\n",
        "conv_2 = tf.keras.layers.Conv2D(16,[3,3],activation=\"relu\")(conv_1)\n",
        "ave_pool = tf.keras.layers.GlobalAveragePooling2D()(conv_2)\n",
        "outputs = tf.keras.layers.Dense(10)(ave_pool)\n",
        "mnist_model_2 = tf.keras.Model(inputs=inputs,outputs=outputs)"
      ],
      "execution_count": 0,
      "outputs": []
    },
    {
      "cell_type": "code",
      "metadata": {
        "colab_type": "code",
        "outputId": "a8c3d12b-f1f1-48dc-cc54-aa15dcfd3797",
        "id": "VLHdCYEd2SkT",
        "colab": {
          "base_uri": "https://localhost:8080/",
          "height": 343
        }
      },
      "source": [
        "mnist_model_2.summary()"
      ],
      "execution_count": 0,
      "outputs": [
        {
          "output_type": "stream",
          "text": [
            "Model: \"model\"\n",
            "_________________________________________________________________\n",
            "Layer (type)                 Output Shape              Param #   \n",
            "=================================================================\n",
            "digits (InputLayer)          [(None, None, None, 1)]   0         \n",
            "_________________________________________________________________\n",
            "conv2d_2 (Conv2D)            (None, None, None, 16)    160       \n",
            "_________________________________________________________________\n",
            "conv2d_3 (Conv2D)            (None, None, None, 16)    2320      \n",
            "_________________________________________________________________\n",
            "global_average_pooling2d (Gl (None, 16)                0         \n",
            "_________________________________________________________________\n",
            "dense_2 (Dense)              (None, 10)                170       \n",
            "=================================================================\n",
            "Total params: 2,650\n",
            "Trainable params: 2,650\n",
            "Non-trainable params: 0\n",
            "_________________________________________________________________\n"
          ],
          "name": "stdout"
        }
      ]
    },
    {
      "cell_type": "markdown",
      "metadata": {
        "id": "BmqA8Vzqx9oH",
        "colab_type": "text"
      },
      "source": [
        "### Two training methods"
      ]
    },
    {
      "cell_type": "markdown",
      "metadata": {
        "id": "MGoy_0AKx9oI",
        "colab_type": "text"
      },
      "source": [
        "##### Use keras fit method"
      ]
    },
    {
      "cell_type": "code",
      "metadata": {
        "id": "cNHa1S4Zx9oI",
        "colab_type": "code",
        "colab": {}
      },
      "source": [
        "mnist_model.compile(optimizer=tf.keras.optimizers.SGD(learning_rate=1e-3),\n",
        "                    #validation_split=0.1,shuffle=True,\n",
        "                   loss = tf.keras.losses.categorical_crossentropy,\n",
        "                   metrics = [\"accuracy\"])"
      ],
      "execution_count": 0,
      "outputs": []
    },
    {
      "cell_type": "code",
      "metadata": {
        "id": "7AiWibZwx9oL",
        "colab_type": "code",
        "colab": {}
      },
      "source": [
        "mnist_model_2.compile(loss = tf.keras.losses.categorical_crossentropy,\n",
        "                      optimizer=tf.keras.optimizers.Adam(),\n",
        "                     metrics=[\"accuracy\"])"
      ],
      "execution_count": 0,
      "outputs": []
    },
    {
      "cell_type": "code",
      "metadata": {
        "id": "TEuM9pNNx9oN",
        "colab_type": "code",
        "outputId": "6707d7bc-9c7b-423a-f37e-0f22fbc924fa",
        "colab": {
          "base_uri": "https://localhost:8080/",
          "height": 173
        }
      },
      "source": [
        "mnist_model.fit(x_train,y_train,batch_size=128,epochs=3)"
      ],
      "execution_count": 0,
      "outputs": [
        {
          "output_type": "stream",
          "text": [
            "Train on 10000 samples\n",
            "Epoch 1/3\n",
            "10000/10000 [==============================] - 6s 576us/sample - loss: 2.3040 - accuracy: 0.0907\n",
            "Epoch 2/3\n",
            "10000/10000 [==============================] - 1s 56us/sample - loss: 2.2972 - accuracy: 0.1148\n",
            "Epoch 3/3\n",
            "10000/10000 [==============================] - 1s 54us/sample - loss: 2.2906 - accuracy: 0.1447\n"
          ],
          "name": "stdout"
        },
        {
          "output_type": "execute_result",
          "data": {
            "text/plain": [
              "<tensorflow.python.keras.callbacks.History at 0x7f571e7270f0>"
            ]
          },
          "metadata": {
            "tags": []
          },
          "execution_count": 53
        }
      ]
    },
    {
      "cell_type": "code",
      "metadata": {
        "id": "NvvPtdkjx9oR",
        "colab_type": "code",
        "outputId": "3a8be0c4-9670-4af1-ad69-de80d63cc638",
        "colab": {
          "base_uri": "https://localhost:8080/",
          "height": 72
        }
      },
      "source": [
        "mnist_model.evaluate(x_test,y_test)"
      ],
      "execution_count": 0,
      "outputs": [
        {
          "output_type": "stream",
          "text": [
            "1000/1000 [==============================] - 0s 237us/sample - loss: 2.2892 - accuracy: 0.2240\n"
          ],
          "name": "stdout"
        },
        {
          "output_type": "execute_result",
          "data": {
            "text/plain": [
              "[2.289229305267334, 0.224]"
            ]
          },
          "metadata": {
            "tags": []
          },
          "execution_count": 54
        }
      ]
    },
    {
      "cell_type": "code",
      "metadata": {
        "id": "h2seaOnhx9oU",
        "colab_type": "code",
        "colab": {}
      },
      "source": [
        "x_train[0]"
      ],
      "execution_count": 0,
      "outputs": []
    },
    {
      "cell_type": "code",
      "metadata": {
        "id": "9f4-3GtEx9oW",
        "colab_type": "code",
        "outputId": "8184d070-16a9-45f5-d3ba-bb9da03187a2",
        "colab": {
          "base_uri": "https://localhost:8080/",
          "height": 259
        }
      },
      "source": [
        "mnist_model.predict(x_test[0])"
      ],
      "execution_count": 0,
      "outputs": [
        {
          "output_type": "execute_result",
          "data": {
            "text/plain": [
              "array([[0.10389671, 0.10418161, 0.09946729, ..., 0.10229164, 0.09956083,\n",
              "        0.10001012],\n",
              "       [0.10469589, 0.10849044, 0.10061602, ..., 0.09528232, 0.09426565,\n",
              "        0.09706194],\n",
              "       [0.10321376, 0.10304905, 0.09967867, ..., 0.09708095, 0.10363151,\n",
              "        0.10274415],\n",
              "       ...,\n",
              "       [0.11280236, 0.10782553, 0.09204929, ..., 0.10438956, 0.09206447,\n",
              "        0.10174832],\n",
              "       [0.10254018, 0.10373657, 0.09755541, ..., 0.10401624, 0.09615669,\n",
              "        0.10008413],\n",
              "       [0.09755366, 0.10235435, 0.09658102, ..., 0.10134465, 0.09392104,\n",
              "        0.10437149]], dtype=float32)"
            ]
          },
          "metadata": {
            "tags": []
          },
          "execution_count": 62
        }
      ]
    },
    {
      "cell_type": "markdown",
      "metadata": {
        "id": "7sSA-Kt0x9ob",
        "colab_type": "text"
      },
      "source": [
        "### Use TF 2.0 "
      ]
    },
    {
      "cell_type": "code",
      "metadata": {
        "id": "m_2nTfb6x9oc",
        "colab_type": "code",
        "colab": {}
      },
      "source": [
        "(x_train,y_train),(x_test,y_test) = tf.keras.datasets.mnist.load_data()\n",
        "x_train = x_train[:10000,:,:]\n",
        "y_train = y_train[:10000]\n",
        "x_test = x_test[:1000,:,:]\n",
        "y_test = y_test[:1000]"
      ],
      "execution_count": 0,
      "outputs": []
    },
    {
      "cell_type": "code",
      "metadata": {
        "id": "8azwtk6Zx9oh",
        "colab_type": "code",
        "colab": {}
      },
      "source": [
        "dataset = tf.data.Dataset.from_tensor_slices(\n",
        "(tf.cast(x_train[...,tf.newaxis]/255, tf.float32),\n",
        " tf.cast(y_train,tf.int64)))\n",
        "dataset = dataset.shuffle(1000).batch(32)"
      ],
      "execution_count": 0,
      "outputs": []
    },
    {
      "cell_type": "code",
      "metadata": {
        "id": "XIaut_yux9ok",
        "colab_type": "code",
        "colab": {}
      },
      "source": [
        "optimizer = tf.keras.optimizers.SGD(learning_rate=1e-3)\n",
        "loss = tf.keras.losses.SparseCategoricalCrossentropy(from_logits=True)\n",
        "loss_history = []"
      ],
      "execution_count": 0,
      "outputs": []
    },
    {
      "cell_type": "code",
      "metadata": {
        "id": "Yp8-no2Qx9on",
        "colab_type": "code",
        "outputId": "d204817d-db84-490c-f00a-9eb46e3fd3f7",
        "colab": {
          "base_uri": "https://localhost:8080/",
          "height": 122
        }
      },
      "source": [
        "for epoch in range(5):\n",
        "    \n",
        "    for (batch, (images,labels)) in enumerate (dataset):\n",
        "        \n",
        "        with tf.GradientTape() as tape:\n",
        "            \n",
        "            logits = mnist_model(images,training=True)\n",
        "            loss_value = loss(labels,logits)\n",
        "            \n",
        "        grads = tape.gradient(loss_value,mnist_model.trainable_variables)\n",
        "        optimizer.apply_gradients(zip(grads,mnist_model.trainable_variables))\n",
        "        \n",
        "    print(\"Epoch {} finishted\".format(epoch))"
      ],
      "execution_count": 0,
      "outputs": [
        {
          "output_type": "stream",
          "text": [
            "Epoch 0 finishted\n",
            "Epoch 1 finishted\n",
            "Epoch 2 finishted\n",
            "Epoch 3 finishted\n",
            "Epoch 4 finishted\n"
          ],
          "name": "stdout"
        }
      ]
    },
    {
      "cell_type": "markdown",
      "metadata": {
        "id": "sD5J2rX2x2bI",
        "colab_type": "text"
      },
      "source": [
        "### 2.回答以下理论题目?"
      ]
    },
    {
      "cell_type": "markdown",
      "metadata": {
        "id": "bipkhvzax2bO",
        "colab_type": "text"
      },
      "source": [
        "#### 1. Compared to FNN, what is the biggest advantage of CNN?\n",
        "The main advantage of CNN over the FNN was that it required a lot lesser number of parameters to train, making it faster and less prone to overfitting."
      ]
    },
    {
      "cell_type": "markdown",
      "metadata": {
        "id": "VtIs76Cnx2bR",
        "colab_type": "text"
      },
      "source": [
        "#### 2. Suppose your input is a 100 by 100 gray image, and you use a convolutional layer with 50 filters that are each 5x5. How many parameters does this hidden layer have (including the bias parameters)? \n",
        "(5x5x2+1)x50=2550"
      ]
    },
    {
      "cell_type": "markdown",
      "metadata": {
        "id": "fEayk4hOx2bU",
        "colab_type": "text"
      },
      "source": [
        "#### 3. What are \"local invariant\" and \"parameter sharing\" ?\n",
        "Local invariant：局部不变性，图片中的某些物体在不同的图片中，识别成相同的物体，即使他们所在的位置不同。\n",
        "\n",
        "Parameter sharing is sharing of weights by all neurons in a particular feature map. A feature detector (such as vertical edge) that is useful in one part of image is probably useful in other part of image too. "
      ]
    },
    {
      "cell_type": "markdown",
      "metadata": {
        "id": "pUAn_5VIx2bX",
        "colab_type": "text"
      },
      "source": [
        "#### 4. Why we use batch normalization ?\n",
        "Batch normalization is a technique for improving the speed, performance, and stability of artificial neural networks.\n",
        "\n",
        "Batch normalization was initially proposed to solve internal covariate shift. The method of batch normalization is proposed to reduce th unwanted shifts to speed up training and to produce more reliable models.\n",
        "\n",
        "Besides reducing internal covariate shift, batch normalization introduces many other benefits. With this additional layer, the network can use higher learning rate without vanishing or exploding gradients. Furthermore, batch normalization regularizes the network such that it is easier to generalize, and it is thus unnecessary to use dropout to mitigate overfitting. The network also becomes more robust to different initialization schemes and learning rates."
      ]
    },
    {
      "cell_type": "markdown",
      "metadata": {
        "id": "NRtsroQCx2ba",
        "colab_type": "text"
      },
      "source": [
        "#### 5. What problem does dropout try to solve ?\n",
        "Dropout resolved the overfitting issue in large networks."
      ]
    },
    {
      "cell_type": "markdown",
      "metadata": {
        "id": "Abt6KWEwx2bc",
        "colab_type": "text"
      },
      "source": [
        "#### 6.  Is the following statement correct and why ? \"Because pooling layers do not have parameters, they do not affect  the backpropagation(derivatives) calculation\"\n",
        "False\n",
        "\n",
        "Even though a pooling layer has no parameters for backprop to update, we still need to backpropagation the gradient through the pooling layer in order to compute gradients for layers that came before the pooling layer."
      ]
    },
    {
      "cell_type": "markdown",
      "metadata": {
        "id": "Ka6pYvAvx2bf",
        "colab_type": "text"
      },
      "source": [
        "### 3. 实践题"
      ]
    },
    {
      "cell_type": "markdown",
      "metadata": {
        "id": "HyjJz3Xbx2bh",
        "colab_type": "text"
      },
      "source": [
        "#### 3.1 In the first session of the practical part, you will implement an image classification model using any deep learning libraries that you are familiar with,  which means, except for tensorflow and keras, you can also use pytorch/caffe/... .  The dataset used in this session is the cifar10 which contains 50000 color (RGB) images, each with size 32x32x3.  All 50000 images are classified into ten categories. "
      ]
    },
    {
      "cell_type": "code",
      "metadata": {
        "id": "SxzYqy3uyN2V",
        "colab_type": "code",
        "colab": {}
      },
      "source": [
        "!pip install tensorflow==2.0.0"
      ],
      "execution_count": 0,
      "outputs": []
    },
    {
      "cell_type": "code",
      "metadata": {
        "id": "rum5MSClx2bj",
        "colab_type": "code",
        "outputId": "c2c88e36-b858-4446-e1fe-91c8be4a4cea",
        "colab": {
          "base_uri": "https://localhost:8080/",
          "height": 94
        }
      },
      "source": [
        "import tensorflow as tf\n",
        "tf.__version__"
      ],
      "execution_count": 0,
      "outputs": [
        {
          "output_type": "execute_result",
          "data": {
            "text/plain": [
              "'2.0.0'"
            ]
          },
          "metadata": {
            "tags": []
          },
          "execution_count": 1
        }
      ]
    },
    {
      "cell_type": "code",
      "metadata": {
        "id": "QZMHbmeByvsc",
        "colab_type": "code",
        "colab": {}
      },
      "source": [
        "import matplotlib.pyplot as plt"
      ],
      "execution_count": 0,
      "outputs": []
    },
    {
      "cell_type": "markdown",
      "metadata": {
        "id": "LLpouGonx2bt",
        "colab_type": "text"
      },
      "source": [
        "Load the dataset. "
      ]
    },
    {
      "cell_type": "code",
      "metadata": {
        "id": "EHUvs4bMx2bu",
        "colab_type": "code",
        "colab": {}
      },
      "source": [
        "(x_train,y_train),(x_test,y_test) = tf.keras.datasets.cifar10.load_data()"
      ],
      "execution_count": 0,
      "outputs": []
    },
    {
      "cell_type": "code",
      "metadata": {
        "id": "wa03KMHNx2b4",
        "colab_type": "code",
        "outputId": "8944213c-f0ea-4e7c-daad-08f10450307e",
        "colab": {
          "base_uri": "https://localhost:8080/",
          "height": 232
        }
      },
      "source": [
        "for i in range(1,11):\n",
        "    plt.subplot(2,5,i)\n",
        "    plt.imshow(x_train[i-1])\n",
        "    plt.text(3,10,str(y_train[i-1]))\n",
        "    plt.xticks([])\n",
        "    plt.yticks([])\n",
        "plt.show()"
      ],
      "execution_count": 0,
      "outputs": [
        {
          "output_type": "display_data",
          "data": {
            "image/png": "[encoded data removed]",
            "text/plain": [
              "<Figure size 432x288 with 10 Axes>"
            ]
          },
          "metadata": {
            "tags": []
          }
        }
      ]
    },
    {
      "cell_type": "markdown",
      "metadata": {
        "id": "ANPFMxKBx2cB",
        "colab_type": "text"
      },
      "source": [
        "##### It is your time to build your model. Try your best to build a model with good performance on the test set."
      ]
    },
    {
      "cell_type": "code",
      "metadata": {
        "id": "m6ixVZmix2cE",
        "colab_type": "code",
        "colab": {}
      },
      "source": [
        "x_train = x_train[:10000,:,:,:]\n",
        "y_train = y_train[:10000,:]\n",
        "x_test = x_test[:1000,:,:,:]\n",
        "y_test = y_test[:1000,:]"
      ],
      "execution_count": 0,
      "outputs": []
    },
    {
      "cell_type": "code",
      "metadata": {
        "id": "owVZfDrTU5WS",
        "colab_type": "code",
        "colab": {}
      },
      "source": [
        "import numpy as np"
      ],
      "execution_count": 0,
      "outputs": []
    },
    {
      "cell_type": "code",
      "metadata": {
        "id": "zZxScIPJVA1K",
        "colab_type": "code",
        "colab": {}
      },
      "source": [
        "x_train = tf.cast(x_train/255, tf.float32)\n",
        "x_test = tf.cast(x_test/255, tf.float32)\n",
        "y_train = tf.keras.utils.to_categorical(y_train)\n",
        "y_test = tf.keras.utils.to_categorical(y_test)"
      ],
      "execution_count": 0,
      "outputs": []
    },
    {
      "cell_type": "code",
      "metadata": {
        "id": "7uVM9HYUXDUS",
        "colab_type": "code",
        "colab": {}
      },
      "source": [
        "#Build the model using Sequential\n",
        "\n",
        "mnist_model = tf.keras.Sequential([\n",
        "    tf.keras.layers.Conv2D(32,[3,3],activation='relu',padding='Same',input_shape=(32,32,3)),                          tf.keras.layers.MaxPooling2D(pool_size=(2,2)),\n",
        "    tf.keras.layers.Dropout(0.25),\n",
        "    tf.keras.layers.Conv2D(32,[3,3],activation='relu',padding='Same'),\n",
        "    tf.keras.layers.MaxPooling2D(pool_size=(2,2)),\n",
        "    tf.keras.layers.Dropout(0.25),\n",
        "    tf.keras.layers.Flatten(),\n",
        "    tf.keras.layers.Dense(128,activation=\"relu\"),\n",
        "    tf.keras.layers.Dropout(0.5),\n",
        "    tf.keras.layers.Dense(10,activation=\"softmax\")\n",
        "])"
      ],
      "execution_count": 0,
      "outputs": []
    },
    {
      "cell_type": "code",
      "metadata": {
        "id": "Ei7m63nlXeRk",
        "colab_type": "code",
        "outputId": "9eb2b100-0699-431c-e3dd-b71952393d38",
        "colab": {
          "base_uri": "https://localhost:8080/",
          "height": 520
        }
      },
      "source": [
        "mnist_model.summary()"
      ],
      "execution_count": 0,
      "outputs": [
        {
          "output_type": "stream",
          "text": [
            "Model: \"sequential_1\"\n",
            "_________________________________________________________________\n",
            "Layer (type)                 Output Shape              Param #   \n",
            "=================================================================\n",
            "conv2d_2 (Conv2D)            (None, 32, 32, 32)        896       \n",
            "_________________________________________________________________\n",
            "max_pooling2d_1 (MaxPooling2 (None, 16, 16, 32)        0         \n",
            "_________________________________________________________________\n",
            "dropout_2 (Dropout)          (None, 16, 16, 32)        0         \n",
            "_________________________________________________________________\n",
            "conv2d_3 (Conv2D)            (None, 16, 16, 32)        9248      \n",
            "_________________________________________________________________\n",
            "max_pooling2d_2 (MaxPooling2 (None, 8, 8, 32)          0         \n",
            "_________________________________________________________________\n",
            "dropout_3 (Dropout)          (None, 8, 8, 32)          0         \n",
            "_________________________________________________________________\n",
            "flatten_1 (Flatten)          (None, 2048)              0         \n",
            "_________________________________________________________________\n",
            "dense_2 (Dense)              (None, 128)               262272    \n",
            "_________________________________________________________________\n",
            "dropout_4 (Dropout)          (None, 128)               0         \n",
            "_________________________________________________________________\n",
            "dense_3 (Dense)              (None, 10)                1290      \n",
            "=================================================================\n",
            "Total params: 273,706\n",
            "Trainable params: 273,706\n",
            "Non-trainable params: 0\n",
            "_________________________________________________________________\n"
          ],
          "name": "stdout"
        }
      ]
    },
    {
      "cell_type": "code",
      "metadata": {
        "id": "_b8mkn6hZORl",
        "colab_type": "code",
        "colab": {}
      },
      "source": [
        "mnist_model.compile(optimizer=tf.keras.optimizers.Adam(learning_rate=1e-3),\n",
        "                   loss = tf.keras.losses.categorical_crossentropy,\n",
        "                   metrics = [\"accuracy\"])"
      ],
      "execution_count": 0,
      "outputs": []
    },
    {
      "cell_type": "code",
      "metadata": {
        "id": "gQBQ5FK0Zaxu",
        "colab_type": "code",
        "outputId": "32942071-2ee9-46c3-efd3-13c8a00a54cf",
        "colab": {
          "base_uri": "https://localhost:8080/",
          "height": 1000
        }
      },
      "source": [
        "train = mnist_model.fit(x_train,y_train,batch_size=128,shuffle=True,validation_split=0.2,epochs=50)"
      ],
      "execution_count": 0,
      "outputs": [
        {
          "output_type": "stream",
          "text": [
            "Train on 8000 samples, validate on 2000 samples\n",
            "Epoch 1/50\n",
            "8000/8000 [==============================] - 12s 1ms/sample - loss: 2.1419 - accuracy: 0.2027 - val_loss: 1.9782 - val_accuracy: 0.2715\n",
            "Epoch 2/50\n",
            "8000/8000 [==============================] - 11s 1ms/sample - loss: 1.8524 - accuracy: 0.3266 - val_loss: 1.7056 - val_accuracy: 0.3955\n",
            "Epoch 3/50\n",
            "8000/8000 [==============================] - 11s 1ms/sample - loss: 1.7136 - accuracy: 0.3721 - val_loss: 1.5976 - val_accuracy: 0.4325\n",
            "Epoch 4/50\n",
            "8000/8000 [==============================] - 11s 1ms/sample - loss: 1.6203 - accuracy: 0.4051 - val_loss: 1.5104 - val_accuracy: 0.4570\n",
            "Epoch 5/50\n",
            "8000/8000 [==============================] - 11s 1ms/sample - loss: 1.5625 - accuracy: 0.4295 - val_loss: 1.4525 - val_accuracy: 0.4735\n",
            "Epoch 6/50\n",
            "8000/8000 [==============================] - 11s 1ms/sample - loss: 1.5045 - accuracy: 0.4494 - val_loss: 1.4230 - val_accuracy: 0.4955\n",
            "Epoch 7/50\n",
            "8000/8000 [==============================] - 11s 1ms/sample - loss: 1.4635 - accuracy: 0.4708 - val_loss: 1.3953 - val_accuracy: 0.5025\n",
            "Epoch 8/50\n",
            "8000/8000 [==============================] - 11s 1ms/sample - loss: 1.4179 - accuracy: 0.4877 - val_loss: 1.3501 - val_accuracy: 0.5135\n",
            "Epoch 9/50\n",
            "8000/8000 [==============================] - 11s 1ms/sample - loss: 1.3913 - accuracy: 0.4965 - val_loss: 1.3385 - val_accuracy: 0.5225\n",
            "Epoch 10/50\n",
            "8000/8000 [==============================] - 11s 1ms/sample - loss: 1.3465 - accuracy: 0.5073 - val_loss: 1.3118 - val_accuracy: 0.5345\n",
            "Epoch 11/50\n",
            "8000/8000 [==============================] - 11s 1ms/sample - loss: 1.3420 - accuracy: 0.5215 - val_loss: 1.2695 - val_accuracy: 0.5415\n",
            "Epoch 12/50\n",
            "8000/8000 [==============================] - 11s 1ms/sample - loss: 1.2998 - accuracy: 0.5324 - val_loss: 1.2392 - val_accuracy: 0.5565\n",
            "Epoch 13/50\n",
            "8000/8000 [==============================] - 12s 1ms/sample - loss: 1.2689 - accuracy: 0.5395 - val_loss: 1.2381 - val_accuracy: 0.5485\n",
            "Epoch 14/50\n",
            "8000/8000 [==============================] - 11s 1ms/sample - loss: 1.2471 - accuracy: 0.5451 - val_loss: 1.2369 - val_accuracy: 0.5530\n",
            "Epoch 15/50\n",
            "8000/8000 [==============================] - 11s 1ms/sample - loss: 1.2109 - accuracy: 0.5629 - val_loss: 1.2136 - val_accuracy: 0.5580\n",
            "Epoch 16/50\n",
            "8000/8000 [==============================] - 11s 1ms/sample - loss: 1.2131 - accuracy: 0.5651 - val_loss: 1.2042 - val_accuracy: 0.5685\n",
            "Epoch 17/50\n",
            "8000/8000 [==============================] - 11s 1ms/sample - loss: 1.1912 - accuracy: 0.5658 - val_loss: 1.1974 - val_accuracy: 0.5690\n",
            "Epoch 18/50\n",
            "8000/8000 [==============================] - 11s 1ms/sample - loss: 1.1704 - accuracy: 0.5798 - val_loss: 1.2163 - val_accuracy: 0.5600\n",
            "Epoch 19/50\n",
            "8000/8000 [==============================] - 11s 1ms/sample - loss: 1.1561 - accuracy: 0.5794 - val_loss: 1.1748 - val_accuracy: 0.5745\n",
            "Epoch 20/50\n",
            "8000/8000 [==============================] - 11s 1ms/sample - loss: 1.1330 - accuracy: 0.5880 - val_loss: 1.1686 - val_accuracy: 0.5765\n",
            "Epoch 21/50\n",
            "8000/8000 [==============================] - 11s 1ms/sample - loss: 1.1199 - accuracy: 0.5976 - val_loss: 1.1643 - val_accuracy: 0.5800\n",
            "Epoch 22/50\n",
            "8000/8000 [==============================] - 11s 1ms/sample - loss: 1.1067 - accuracy: 0.6039 - val_loss: 1.1577 - val_accuracy: 0.5870\n",
            "Epoch 23/50\n",
            "8000/8000 [==============================] - 11s 1ms/sample - loss: 1.0921 - accuracy: 0.6037 - val_loss: 1.1525 - val_accuracy: 0.5940\n",
            "Epoch 24/50\n",
            "8000/8000 [==============================] - 11s 1ms/sample - loss: 1.0641 - accuracy: 0.6087 - val_loss: 1.1431 - val_accuracy: 0.5905\n",
            "Epoch 25/50\n",
            "8000/8000 [==============================] - 11s 1ms/sample - loss: 1.0665 - accuracy: 0.6058 - val_loss: 1.1517 - val_accuracy: 0.5910\n",
            "Epoch 26/50\n",
            "8000/8000 [==============================] - 11s 1ms/sample - loss: 1.0499 - accuracy: 0.6230 - val_loss: 1.1364 - val_accuracy: 0.5920\n",
            "Epoch 27/50\n",
            "8000/8000 [==============================] - 11s 1ms/sample - loss: 1.0204 - accuracy: 0.6220 - val_loss: 1.1500 - val_accuracy: 0.5815\n",
            "Epoch 28/50\n",
            "8000/8000 [==============================] - 11s 1ms/sample - loss: 1.0019 - accuracy: 0.6300 - val_loss: 1.1582 - val_accuracy: 0.5930\n",
            "Epoch 29/50\n",
            "8000/8000 [==============================] - 11s 1ms/sample - loss: 1.0074 - accuracy: 0.6359 - val_loss: 1.1295 - val_accuracy: 0.5970\n",
            "Epoch 30/50\n",
            "8000/8000 [==============================] - 11s 1ms/sample - loss: 0.9967 - accuracy: 0.6411 - val_loss: 1.1657 - val_accuracy: 0.5880\n",
            "Epoch 31/50\n",
            "8000/8000 [==============================] - 11s 1ms/sample - loss: 1.0051 - accuracy: 0.6348 - val_loss: 1.1220 - val_accuracy: 0.6005\n",
            "Epoch 32/50\n",
            "8000/8000 [==============================] - 11s 1ms/sample - loss: 0.9630 - accuracy: 0.6497 - val_loss: 1.1146 - val_accuracy: 0.6010\n",
            "Epoch 33/50\n",
            "8000/8000 [==============================] - 11s 1ms/sample - loss: 0.9537 - accuracy: 0.6501 - val_loss: 1.1056 - val_accuracy: 0.6230\n",
            "Epoch 34/50\n",
            "8000/8000 [==============================] - 11s 1ms/sample - loss: 0.9350 - accuracy: 0.6546 - val_loss: 1.1134 - val_accuracy: 0.6075\n",
            "Epoch 35/50\n",
            "8000/8000 [==============================] - 11s 1ms/sample - loss: 0.9301 - accuracy: 0.6646 - val_loss: 1.1191 - val_accuracy: 0.6090\n",
            "Epoch 36/50\n",
            "8000/8000 [==============================] - 11s 1ms/sample - loss: 0.9183 - accuracy: 0.6614 - val_loss: 1.1181 - val_accuracy: 0.6095\n",
            "Epoch 37/50\n",
            "8000/8000 [==============================] - 11s 1ms/sample - loss: 0.9087 - accuracy: 0.6680 - val_loss: 1.1052 - val_accuracy: 0.6155\n",
            "Epoch 38/50\n",
            "8000/8000 [==============================] - 11s 1ms/sample - loss: 0.8874 - accuracy: 0.6762 - val_loss: 1.1215 - val_accuracy: 0.6035\n",
            "Epoch 39/50\n",
            "8000/8000 [==============================] - 11s 1ms/sample - loss: 0.8789 - accuracy: 0.6830 - val_loss: 1.1039 - val_accuracy: 0.6080\n",
            "Epoch 40/50\n",
            "8000/8000 [==============================] - 11s 1ms/sample - loss: 0.8771 - accuracy: 0.6727 - val_loss: 1.1082 - val_accuracy: 0.6200\n",
            "Epoch 41/50\n",
            "8000/8000 [==============================] - 11s 1ms/sample - loss: 0.8715 - accuracy: 0.6755 - val_loss: 1.1504 - val_accuracy: 0.6145\n",
            "Epoch 42/50\n",
            "8000/8000 [==============================] - 11s 1ms/sample - loss: 0.8657 - accuracy: 0.6805 - val_loss: 1.1119 - val_accuracy: 0.6215\n",
            "Epoch 43/50\n",
            "8000/8000 [==============================] - 11s 1ms/sample - loss: 0.8513 - accuracy: 0.6791 - val_loss: 1.1163 - val_accuracy: 0.6120\n",
            "Epoch 44/50\n",
            "8000/8000 [==============================] - 11s 1ms/sample - loss: 0.8386 - accuracy: 0.6884 - val_loss: 1.1248 - val_accuracy: 0.6140\n",
            "Epoch 45/50\n",
            "8000/8000 [==============================] - 11s 1ms/sample - loss: 0.8267 - accuracy: 0.6951 - val_loss: 1.1129 - val_accuracy: 0.6235\n",
            "Epoch 46/50\n",
            "8000/8000 [==============================] - 11s 1ms/sample - loss: 0.8135 - accuracy: 0.7023 - val_loss: 1.1162 - val_accuracy: 0.6130\n",
            "Epoch 47/50\n",
            "8000/8000 [==============================] - 11s 1ms/sample - loss: 0.8414 - accuracy: 0.6906 - val_loss: 1.1799 - val_accuracy: 0.6030\n",
            "Epoch 48/50\n",
            "8000/8000 [==============================] - 11s 1ms/sample - loss: 0.8030 - accuracy: 0.7071 - val_loss: 1.1725 - val_accuracy: 0.6080\n",
            "Epoch 49/50\n",
            "8000/8000 [==============================] - 11s 1ms/sample - loss: 0.7996 - accuracy: 0.6998 - val_loss: 1.1149 - val_accuracy: 0.6135\n",
            "Epoch 50/50\n",
            "8000/8000 [==============================] - 11s 1ms/sample - loss: 0.7840 - accuracy: 0.7088 - val_loss: 1.1463 - val_accuracy: 0.6215\n"
          ],
          "name": "stdout"
        }
      ]
    },
    {
      "cell_type": "code",
      "metadata": {
        "id": "U5Sv3i10Zbr1",
        "colab_type": "code",
        "outputId": "b17f82eb-90d0-4f6f-c845-0a21355fd96d",
        "colab": {
          "base_uri": "https://localhost:8080/",
          "height": 54
        }
      },
      "source": [
        "test = mnist_model.evaluate(x_test,y_test)"
      ],
      "execution_count": 0,
      "outputs": [
        {
          "output_type": "stream",
          "text": [
            "\r1000/1 [================================================================================================================================================================================================================================================================================================================================================================================================================================================================================================================================================================================================================================================================================================================================================================================================================================================================================================================================================================================================================================================================================================================================================================================================================================================================================================================================================================================================================================================================================================================================================================================================================================================================================================================================================================================================================================================================================================================================================================================================================================================================================================================================================================================================================================================================================================================================================================================================================================================================================================================================================================================================================================================================================================================================================================================================================================================================================================================================================================================================================================================================================================================================================================================================================================================================================================================================================================================================================================================================================================================================================================================================================================================================================================================================================================================================================================================================================================================================================================================================================================================================================================================================================================================================================================================================================================================================================================================================================================================================================================================================================================================================================================================================================================================================================================================================================================================================================================================================================================================================================================================================================================================================================================================================================================================================================================================================================================================================================================================================================================================================================================================================================================================================================================================================================================================================================================================================================================================================================================================================================================================================================================================================================================================================================================================================================================================================================================================================================================================================================================================================================================================================================================================================================================================================================================================================================================================================================================================================================================================================================================================================================================================================================================================================================================================================================================================================================================================================================================================================================================================================================================================================================================================================================================================================================================================================================================================================================================================================================================================================================================================================================================================================================================================================================================================================================================================================================================================================================================================================================================================================================================================================================================================================================================================================================================================================================================================================================================================================================================================================================================================================================================================================================================================================================================================================================================================================================================================================================================================================================================================================================================================================================================================================================================================================================================================================================================================================================================================================================================================================================================================================================================================================================================================================================================================================================================================================================================================================================================================================================================================================================================================================================================================================================================================================================================================================================================================================================================================================================================================================================================================================================================================================================================================================================================================================================================================================================================================================================================================================================================================================================================================================================================================================================================================================================================================================================================================================================================================================================================================================================================================================================================================================================================================================================================================================================================================================================================================================================================================================================================================================================================================================================================================================================================================================================================================================================================================================================================================================================================================================================================================================================================================================================================================================================================================================================================================================================================================================================================================================================================================================================================================================================================================================================================================================================================================================================================================================================================================================================================================================================================================================================================================================================================================================================================================================================================================================================================================================================================================================================================================================================================================================================================================================================================================================================================================================================================================================================================================================================================================================================================================================================================================================================================================================================================================================================================================================================================================================================================================================================================================================================================================================================================================================================================================================================================================================================================================================================================================================================================================================================================================================================================================================================================================================================================================================================================================================================================================================================================================================================================================================================================================================================================================================================================================================================================================================================================================================================================================================================================================================================================================================================================================================================================================================================================================================================================================================================================================================================================================================================================================================================================================================================================================================================================================================================================================================================================================================================================================================================================================================================================================================================================================================================================================================================================================================================================================================================================================================================================================================================================================================================================================================================================================================================================================================================================================================================================================================================================================================================================================================================================================================================================================================================================================================================================================================================================================================================================================================================================================================================================================================================================================================================================================================================================================================================================================================================================================================================================================================================================================================================================================================================================================================================================================================================================================================================================================================================================================================================================================================================================================================================================================================================================================================================================================================================================================================================================================================================================================================================================================================================================================================================================================================================================================================================================================================================================================================================================================================================================================================================================================================================================================================================================================================================================================================================================================================================================================================================================================================================================================================================================================================================================================================================================================================================================================================================================================================================================================================================================================================================================================================================================================================================================================================================================================================================================================================================================================================================================================================================================================================================================================================================================================================================================================================================================================================================================================================================================================================================================================================================================================================================================================================================================================================================================================================================================================================================================================================================================================================================================================================================================================================================================================================================================================================================================================================================================================================================================================================================================================================================================================================================================================================================================================================================================================================================================================================================================================================================================================================================================================================================================================================================================================================================================================================================================================================================================================================================================================================================================================================================================================================================================================================================================================================================================================================================================================================================================================================================================================================================================================================================================================================================================================================================================================================================================================================================================================================================================================================================================================================================================================================================================================================================================================================================================================================================================================================================================================================================================================================================================================================================================================================================================================================================================================================================================================================================================================================================================================================================================================================================================================================================================================================================================================================================================================================================================================================================================================================================================================================================================================================================================================================================================================================================================================================================================================================================================================================================================================================================================================================================================================================================================================================================================================================================================================================================================================================================================================================================================================================================================================================================================================================================================================================================================================================================================================================================================================================================================================================================================================================================================================================================================================================================================================================================================================================================================================================================================================================================================================================================================================================================================================================================================================================================================================================================================================================================================================================================================================================================================================================================================================================================================================================================================================================================================================================================================================================================================================================================================================================================================================================================================================================================================================================================================================================================================================] - 0s 394us/sample - loss: 1.1023 - accuracy: 0.6140\n"
          ],
          "name": "stdout"
        }
      ]
    },
    {
      "cell_type": "code",
      "metadata": {
        "id": "ur5de1cokFw6",
        "colab_type": "code",
        "outputId": "18361107-b408-4963-827f-539a22ac4b81",
        "colab": {
          "base_uri": "https://localhost:8080/",
          "height": 92
        }
      },
      "source": [
        "print('Test score:', test[0])\n",
        "print('Test accuracy:', test[1])"
      ],
      "execution_count": 0,
      "outputs": [
        {
          "output_type": "stream",
          "text": [
            "Test score: 1.1310894269943237\n",
            "Test accuracy: 0.614\n"
          ],
          "name": "stdout"
        }
      ]
    },
    {
      "cell_type": "code",
      "metadata": {
        "id": "mAw-a3F_kktB",
        "colab_type": "code",
        "colab": {}
      },
      "source": [
        "mnist_model.save('keras_model.cifar10.h5')\n",
        "mnist_model.save_weights('keras_model.cifar10.weights.h5')"
      ],
      "execution_count": 0,
      "outputs": []
    },
    {
      "cell_type": "markdown",
      "metadata": {
        "id": "9a5olhjcx2cK",
        "colab_type": "text"
      },
      "source": [
        "### 4. Optional "
      ]
    },
    {
      "cell_type": "markdown",
      "metadata": {
        "id": "SaXfGcKcx2cL",
        "colab_type": "text"
      },
      "source": [
        "##### Do you want to build a CNN from scratch ? "
      ]
    },
    {
      "cell_type": "markdown",
      "metadata": {
        "id": "NNPr9vbtx2cN",
        "colab_type": "text"
      },
      "source": [
        "In this optianl part, you will build a cnn network step by step."
      ]
    },
    {
      "cell_type": "code",
      "metadata": {
        "id": "jhKIJURtx2cP",
        "colab_type": "code",
        "colab": {}
      },
      "source": [
        "import numpy as np\n",
        "np.random.seed(1)"
      ],
      "execution_count": 0,
      "outputs": []
    },
    {
      "cell_type": "markdown",
      "metadata": {
        "id": "JgcH_LJzx2cW",
        "colab_type": "text"
      },
      "source": [
        "##### 4.1 Implement a convolution step"
      ]
    },
    {
      "cell_type": "markdown",
      "metadata": {
        "id": "_rs_c6g0x2cY",
        "colab_type": "text"
      },
      "source": [
        "Hints: Numpy.sum function might be useful."
      ]
    },
    {
      "cell_type": "code",
      "metadata": {
        "id": "IAhKafZ-x2cZ",
        "colab_type": "code",
        "colab": {}
      },
      "source": [
        "def conv_single_step(a_prev_slice,W,b):\n",
        "    '''\n",
        "    Apply one filter defined by parameters W on a single slice (a_slice_prev) of the output activation \n",
        "    of the previous layer.\n",
        "    Arguments:\n",
        "    a_prev_slice: slice of input data (shape=(f,f,n_C_prev))\n",
        "    W: Weight parameters contained in a window. (shape = (f,f,n_C_prev))\n",
        "    b: Bias parameters contained in a window. (shape=(1,1,1))\n",
        "    \n",
        "    Reutrns:\n",
        "    \n",
        "    Z: a scalar value, the result of convolving the sliding window (W, b) on a slice x of the input data \n",
        "    '''\n",
        "    # Element-wise product\n",
        "    s = None\n",
        "    \n",
        "    # Sum over s  \n",
        "    Z = None\n",
        "    \n",
        "    # Add bias b to z.\n",
        "    Z = None\n",
        "    \n",
        "    return Z"
      ],
      "execution_count": 0,
      "outputs": []
    },
    {
      "cell_type": "code",
      "metadata": {
        "id": "C6qBGnPix2cc",
        "colab_type": "code",
        "colab": {}
      },
      "source": [
        "np.random.seed(1)\n",
        "a_slice_prev = np.random.randn(4, 4, 3)\n",
        "W = np.random.randn(4, 4, 3)\n",
        "b = np.random.randn(1, 1, 1)\n",
        "\n",
        "Z = conv_single_step(a_slice_prev, W, b)\n",
        "print(\"Z =\", Z)"
      ],
      "execution_count": 0,
      "outputs": []
    },
    {
      "cell_type": "markdown",
      "metadata": {
        "id": "FfvRV-v-x2cf",
        "colab_type": "text"
      },
      "source": [
        "Use the code above to test your code. If your c\n",
        "ode is correct, you should be able to get the output shown as below."
      ]
    },
    {
      "cell_type": "markdown",
      "metadata": {
        "id": "QzmaqkIYx2cg",
        "colab_type": "text"
      },
      "source": [
        "<table>\n",
        "    <tr>\n",
        "        <td>\n",
        "            Z\n",
        "        </td>\n",
        "        <td>\n",
        "            -6.99908945068\n",
        "        </td>\n",
        "    </tr>\n",
        "\n",
        "</table>"
      ]
    },
    {
      "cell_type": "markdown",
      "metadata": {
        "id": "0z07LbZBx2cg",
        "colab_type": "text"
      },
      "source": [
        "##### 4.2 Padding"
      ]
    },
    {
      "cell_type": "markdown",
      "metadata": {
        "id": "YetGuBakx2ch",
        "colab_type": "text"
      },
      "source": [
        "Hints: Numpy.pad function might be useful."
      ]
    },
    {
      "cell_type": "code",
      "metadata": {
        "id": "U-79dh7Dx2cj",
        "colab_type": "code",
        "colab": {}
      },
      "source": [
        "def zero_pad(X, pad):\n",
        "    \"\"\"\n",
        "    Pad with zeros all images of the dataset X. The padding is applied to the height and width of an image, \n",
        "    as illustrated in Figure 1.\n",
        "    \n",
        "    Argument:\n",
        "    X: python numpy array of shape (m, n_H, n_W, n_C) representing a batch of m images\n",
        "    pad: integer, amount of padding around each image on vertical and horizontal dimensions\n",
        "    \n",
        "    Returns:\n",
        "    X_pad: padded image of shape (m, n_H + 2*pad, n_W + 2*pad, n_C)\n",
        "    \"\"\"\n",
        "\n",
        "    X_pad = None\n",
        "    \n",
        "    return X_pad"
      ],
      "execution_count": 0,
      "outputs": []
    },
    {
      "cell_type": "code",
      "metadata": {
        "id": "rJyJ9svBx2cm",
        "colab_type": "code",
        "colab": {}
      },
      "source": [
        "np.random.seed(1)\n",
        "x = np.random.randn(4, 3, 3, 2)\n",
        "x_pad = zero_pad(x, 2)\n",
        "print (\"x.shape =\\n\", x.shape)\n",
        "print (\"x_pad.shape =\\n\", x_pad.shape)\n",
        "print (\"x[1,1] =\\n\", x[1,1])\n",
        "print (\"x_pad[1,1] =\\n\", x_pad[1,1])"
      ],
      "execution_count": 0,
      "outputs": []
    },
    {
      "cell_type": "markdown",
      "metadata": {
        "id": "9wRenq8cx2cp",
        "colab_type": "text"
      },
      "source": [
        "Use the code above to test your code. If your code is correct, you should be able to get the output shown as below."
      ]
    },
    {
      "cell_type": "markdown",
      "metadata": {
        "id": "3SxJfrLkx2cq",
        "colab_type": "text"
      },
      "source": [
        "```\n",
        "x.shape =\n",
        " (4, 3, 3, 2)\n",
        "x_pad.shape =\n",
        " (4, 7, 7, 2)\n",
        "x[1,1] =\n",
        " [[ 0.90085595 -0.68372786]\n",
        " [-0.12289023 -0.93576943]\n",
        " [-0.26788808  0.53035547]]\n",
        "x_pad[1,1] =\n",
        " [[ 0.  0.]\n",
        " [ 0.  0.]\n",
        " [ 0.  0.]\n",
        " [ 0.  0.]\n",
        " [ 0.  0.]\n",
        " [ 0.  0.]\n",
        " [ 0.  0.]]\n",
        "```"
      ]
    },
    {
      "cell_type": "markdown",
      "metadata": {
        "id": "-UqOUFGix2cs",
        "colab_type": "text"
      },
      "source": [
        "##### 4.3 Implement a forward propagation in CNN."
      ]
    },
    {
      "cell_type": "markdown",
      "metadata": {
        "id": "H2_McDr2x2cu",
        "colab_type": "text"
      },
      "source": [
        "Hints: The formulas to calculate the output shapes are :"
      ]
    },
    {
      "cell_type": "markdown",
      "metadata": {
        "id": "9-QXDNhOx2cw",
        "colab_type": "text"
      },
      "source": [
        "$$ n_H = \\lfloor \\frac{n_{H_{prev}} - f + 2 \\times pad}{stride} \\rfloor +1 $$\n",
        "$$ n_W = \\lfloor \\frac{n_{W_{prev}} - f + 2 \\times pad}{stride} \\rfloor +1 $$\n",
        "$$ n_C = \\text{number of filters used in the convolution}$$"
      ]
    },
    {
      "cell_type": "code",
      "metadata": {
        "id": "-e64_mArx2cx",
        "colab_type": "code",
        "colab": {}
      },
      "source": [
        "def conv_forward(A_prev, W, b, hparameters):\n",
        "    \"\"\"\n",
        "    Implements the forward propagation for a convolution function\n",
        "    \n",
        "    Arguments:\n",
        "    A_prev: output activations of the previous layer, \n",
        "        numpy array of shape (m, n_H_prev, n_W_prev, n_C_prev)\n",
        "    W: Weights, numpy array of shape (f, f, n_C_prev, n_C)\n",
        "    b: Biases, numpy array of shape (1, 1, 1, n_C)\n",
        "    hparameters: python dictionary containing \"stride\" and \"pad\"\n",
        "        \n",
        "    Returns:\n",
        "    Z: conv output, numpy array of shape (m, n_H, n_W, n_C)\n",
        "    cache: cache of values needed for the conv_backward() function\n",
        "    \"\"\"\n",
        "    \n",
        "    # Get dimensions from A_prev's shape  \n",
        "    (m, n_H_prev, n_W_prev, n_C_prev) = None\n",
        "    \n",
        "    # Get dimensions from W's shape \n",
        "    (f, f, n_C_prev, n_C) = None\n",
        "    \n",
        "    # Get information from \"hparameters\" \n",
        "    stride = None\n",
        "    pad = None\n",
        "    \n",
        "    # Compute the dimensions of the CONV output volume using the formula given above. \n",
        "    # Hint: use int() to apply the 'floor' operation. \n",
        "    n_H = None\n",
        "    n_W = None\n",
        "    \n",
        "    # Initialize the output volume Z with zeros. \n",
        "    Z = None\n",
        "    \n",
        "    # Create A_prev_pad by padding A_prev\n",
        "    A_prev_pad = None\n",
        "    \n",
        "    for i in range(None):               # loop over the batch of training examples\n",
        "        a_prev_pad = None               # Select ith training example's padded activation\n",
        "        for h in range(None):           # loop over vertical axis of the output volume\n",
        "            # Find the vertical start and end of the current \"slice\" \n",
        "            vert_start = None\n",
        "            vert_end = None\n",
        "            \n",
        "            for w in range(None):       # loop over horizontal axis of the output volume\n",
        "                # Find the horizontal start and end of the current \"slice\"\n",
        "                horiz_start = None\n",
        "                horiz_end = None\n",
        "                \n",
        "                for c in range(None):   # loop over channels (= #filters) of the output volume\n",
        "                                        \n",
        "                    # Use the corners to define the (3D) slice of a_prev_pad (See Hint above the cell). \n",
        "                    a_slice_prev = None\n",
        "                    \n",
        "                    # Convolve the (3D) slice with the correct filter W and bias b, to get back one output neuron. \n",
        "                    weights = None\n",
        "                    biases = None\n",
        "                    Z[i, h, w, c] = None\n",
        "                                        \n",
        "    \n",
        "    # Making sure your output shape is correct\n",
        "    assert(Z.shape == (m, n_H, n_W, n_C))\n",
        "    \n",
        "    # Save information in \"cache\" for the backprop\n",
        "    cache = (A_prev, W, b, hparameters)\n",
        "    \n",
        "    return Z, cache"
      ],
      "execution_count": 0,
      "outputs": []
    },
    {
      "cell_type": "code",
      "metadata": {
        "id": "MuOkLi9px2c1",
        "colab_type": "code",
        "colab": {}
      },
      "source": [
        "np.random.seed(1)\n",
        "A_prev = np.random.randn(10,5,7,4)\n",
        "W = np.random.randn(3,3,4,8)\n",
        "b = np.random.randn(1,1,1,8)\n",
        "hparameters = {\"pad\" : 1,\n",
        "               \"stride\": 2}\n",
        "\n",
        "Z, cache_conv = conv_forward(A_prev, W, b, hparameters)\n",
        "print(\"Z's mean =\\n\", np.mean(Z))\n",
        "print(\"Z[3,2,1] =\\n\", Z[3,2,1])\n",
        "print(\"cache_conv[0][1][2][3] =\\n\", cache_conv[0][1][2][3])"
      ],
      "execution_count": 0,
      "outputs": []
    },
    {
      "cell_type": "markdown",
      "metadata": {
        "id": "YKOLENNwx2c5",
        "colab_type": "text"
      },
      "source": [
        "Use the code above to test your code. If your code is correct, you should be able to get the output shown as below."
      ]
    },
    {
      "cell_type": "markdown",
      "metadata": {
        "id": "N8STslxXx2c7",
        "colab_type": "text"
      },
      "source": [
        "```\n",
        "Z's mean =\n",
        " 0.692360880758\n",
        "Z[3,2,1] =\n",
        " [ -1.28912231   2.27650251   6.61941931   0.95527176   8.25132576\n",
        "   2.31329639  13.00689405   2.34576051]\n",
        "cache_conv[0][1][2][3] = [-1.1191154   1.9560789  -0.3264995  -1.34267579]\n",
        "```"
      ]
    },
    {
      "cell_type": "markdown",
      "metadata": {
        "id": "87bHjf2Wx2c9",
        "colab_type": "text"
      },
      "source": [
        "##### 4.4 Pooling layers"
      ]
    },
    {
      "cell_type": "markdown",
      "metadata": {
        "id": "Cv8nL2VNx2c-",
        "colab_type": "text"
      },
      "source": [
        "Hints: As there\\'s no padding, the formulas binding the output shape of the pooling to the input shape is:\n",
        "\n",
        "$$ n_H = \\lfloor \\frac{n_{H_{prev}} - f}{stride} \\rfloor +1 $$\n",
        "\n",
        "$$ n_W = \\lfloor \\frac{n_{W_{prev}} - f}{stride} \\rfloor +1 $$\n",
        "\n",
        "$$ n_C = n_{C_{prev}}$$"
      ]
    },
    {
      "cell_type": "code",
      "metadata": {
        "id": "RXJXlGQyx2dA",
        "colab_type": "code",
        "colab": {}
      },
      "source": [
        "def pool_forward(A_prev, hparameters, mode = \"max\"):\n",
        "    \"\"\"\n",
        "    Implements the forward pass of the pooling layer\n",
        "    \n",
        "    Arguments:\n",
        "    A_prev: Input data, numpy array of shape (m, n_H_prev, n_W_prev, n_C_prev)\n",
        "    hparameters: python dictionary containing \"f\" and \"stride\"\n",
        "    mode: the pooling mode you would like to use, defined as a string (\"max\" or \"average\")\n",
        "    \n",
        "    Returns:\n",
        "    A: output of the pool layer, a numpy array of shape (m, n_H, n_W, n_C)\n",
        "    cache: cache used in the backward pass of the pooling layer, contains the input and hparameters \n",
        "    \"\"\"\n",
        "    \n",
        "    # Get dimensions from the input shape\n",
        "    (m, n_H_prev, n_W_prev, n_C_prev) = A_prev.shape\n",
        "    \n",
        "    # Get hyperparameters from \"hparameters\"\n",
        "    f = hparameters[\"f\"]\n",
        "    stride = hparameters[\"stride\"]\n",
        "    \n",
        "    # Define the dimensions of the output\n",
        "    n_H = int(1 + (n_H_prev - f) / stride)\n",
        "    n_W = int(1 + (n_W_prev - f) / stride)\n",
        "    n_C = n_C_prev\n",
        "    \n",
        "    # Initialize output matrix A\n",
        "    A = np.zeros((m, n_H, n_W, n_C))              \n",
        "    \n",
        "    for i in range(None):                         # loop over the training examples\n",
        "        for h in range(None):                     # loop on the vertical axis of the output volume\n",
        "            # Find the vertical start and end of the current \"slice\" (≈2 lines)\n",
        "            vert_start = None\n",
        "            vert_end = None\n",
        "            \n",
        "            for w in range(None):                 # loop on the horizontal axis of the output volume\n",
        "                # Find the vertical start and end of the current \"slice\" (≈2 lines)\n",
        "                horiz_start = None\n",
        "                horiz_end = None\n",
        "                \n",
        "                for c in range (None):            # loop over the channels of the output volume\n",
        "                    \n",
        "                    # Use the corners to define the current slice on the ith training example of A_prev, channel c. (≈1 line)\n",
        "                    a_prev_slice = None\n",
        "                    \n",
        "                    # Compute the pooling operation on the slice. \n",
        "                    # Use an if statement to differentiate the modes. \n",
        "                    # Use np.max and np.mean.\n",
        "                    if mode == \"max\":\n",
        "                        A[i, h, w, c] = None\n",
        "                    elif mode == \"average\":\n",
        "                        A[i, h, w, c] = None\n",
        "    \n",
        "    # Store the input and hparameters in \"cache\" for pool_backward()\n",
        "    cache = (A_prev, hparameters)\n",
        "    \n",
        "    # Making sure your output shape is correct\n",
        "    assert(A.shape == (m, n_H, n_W, n_C))\n",
        "    \n",
        "    return A, cache"
      ],
      "execution_count": 0,
      "outputs": []
    },
    {
      "cell_type": "code",
      "metadata": {
        "id": "aGTXP4Ktx2dE",
        "colab_type": "code",
        "colab": {}
      },
      "source": [
        "np.random.seed(1)\n",
        "A_prev = np.random.randn(2, 5, 5, 3)\n",
        "hparameters = {\"stride\" : 1, \"f\": 3}\n",
        "\n",
        "A, cache = pool_forward(A_prev, hparameters)\n",
        "print(\"mode = max\")\n",
        "print(\"A.shape = \" + str(A.shape))\n",
        "print(\"A =\\n\", A)\n",
        "print()\n",
        "A, cache = pool_forward(A_prev, hparameters, mode = \"average\")\n",
        "print(\"mode = average\")\n",
        "print(\"A.shape = \" + str(A.shape))\n",
        "print(\"A =\\n\", A)"
      ],
      "execution_count": 0,
      "outputs": []
    },
    {
      "cell_type": "markdown",
      "metadata": {
        "id": "HEyJ02JXx2dJ",
        "colab_type": "text"
      },
      "source": [
        "Use the code above to test your code. If your code is correct, you should be able to get the output shown as below."
      ]
    },
    {
      "cell_type": "markdown",
      "metadata": {
        "id": "d1i2IdpHx2dK",
        "colab_type": "text"
      },
      "source": [
        "```\n",
        "mode = max\n",
        "A.shape = (2, 3, 3, 3)\n",
        "A =\n",
        " [[[[ 1.74481176  0.90159072  1.65980218]\n",
        "   [ 1.74481176  1.46210794  1.65980218]\n",
        "   [ 1.74481176  1.6924546   1.65980218]]\n",
        "\n",
        "  [[ 1.14472371  0.90159072  2.10025514]\n",
        "   [ 1.14472371  0.90159072  1.65980218]\n",
        "   [ 1.14472371  1.6924546   1.65980218]]\n",
        "\n",
        "  [[ 1.13162939  1.51981682  2.18557541]\n",
        "   [ 1.13162939  1.51981682  2.18557541]\n",
        "   [ 1.13162939  1.6924546   2.18557541]]]\n",
        "\n",
        "\n",
        " [[[ 1.19891788  0.84616065  0.82797464]\n",
        "   [ 0.69803203  0.84616065  1.2245077 ]\n",
        "   [ 0.69803203  1.12141771  1.2245077 ]]\n",
        "\n",
        "  [[ 1.96710175  0.84616065  1.27375593]\n",
        "   [ 1.96710175  0.84616065  1.23616403]\n",
        "   [ 1.62765075  1.12141771  1.2245077 ]]\n",
        "\n",
        "  [[ 1.96710175  0.86888616  1.27375593]\n",
        "   [ 1.96710175  0.86888616  1.23616403]\n",
        "   [ 1.62765075  1.12141771  0.79280687]]]]\n",
        "\n",
        "mode = average\n",
        "A.shape = (2, 3, 3, 3)\n",
        "A =\n",
        " [[[[ -3.01046719e-02  -3.24021315e-03  -3.36298859e-01]\n",
        "   [  1.43310483e-01   1.93146751e-01  -4.44905196e-01]\n",
        "   [  1.28934436e-01   2.22428468e-01   1.25067597e-01]]\n",
        "\n",
        "  [[ -3.81801899e-01   1.59993515e-02   1.70562706e-01]\n",
        "   [  4.73707165e-02   2.59244658e-02   9.20338402e-02]\n",
        "   [  3.97048605e-02   1.57189094e-01   3.45302489e-01]]\n",
        "\n",
        "  [[ -3.82680519e-01   2.32579951e-01   6.25997903e-01]\n",
        "   [ -2.47157416e-01  -3.48524998e-04   3.50539717e-01]\n",
        "   [ -9.52551510e-02   2.68511000e-01   4.66056368e-01]]]\n",
        "\n",
        "\n",
        " [[[ -1.73134159e-01   3.23771981e-01  -3.43175716e-01]\n",
        "   [  3.80634669e-02   7.26706274e-02  -2.30268958e-01]\n",
        "   [  2.03009393e-02   1.41414785e-01  -1.23158476e-02]]\n",
        "\n",
        "  [[  4.44976963e-01  -2.61694592e-03  -3.10403073e-01]\n",
        "   [  5.08114737e-01  -2.34937338e-01  -2.39611830e-01]\n",
        "   [  1.18726772e-01   1.72552294e-01  -2.21121966e-01]]\n",
        "\n",
        "  [[  4.29449255e-01   8.44699612e-02  -2.72909051e-01]\n",
        "   [  6.76351685e-01  -1.20138225e-01  -2.44076712e-01]\n",
        "   [  1.50774518e-01   2.89111751e-01   1.23238536e-03]]]]\n",
        "```"
      ]
    },
    {
      "cell_type": "markdown",
      "metadata": {
        "id": "uhczeDb-x2dM",
        "colab_type": "text"
      },
      "source": [
        "####  Congratulations! You hanve finished the assignment 6.  You now understand how convolutional neural networks work."
      ]
    }
  ]
}